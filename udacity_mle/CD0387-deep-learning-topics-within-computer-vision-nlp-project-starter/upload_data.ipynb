{
 "cells": [
  {
   "cell_type": "code",
   "execution_count": 5,
   "id": "d0ea9114-7896-48a5-a02b-c2a852545f2a",
   "metadata": {},
   "outputs": [
    {
     "name": "stderr",
     "output_type": "stream",
     "text": [
      "INFO:root:Using zip file at: /home/sagemaker-user/udemy-aws-machine_learning/udacity_mle/CD0387-deep-learning-topics-within-computer-vision-nlp-project-starter/dogImages.zip\n",
      "ERROR:root:Error unzipping dogImages.zip: The file dogImages.zip is not a valid ZIP file\n"
     ]
    },
    {
     "ename": "ValueError",
     "evalue": "The file dogImages.zip is not a valid ZIP file",
     "output_type": "error",
     "traceback": [
      "\u001b[0;31m---------------------------------------------------------------------------\u001b[0m",
      "\u001b[0;31mValueError\u001b[0m                                Traceback (most recent call last)",
      "Cell \u001b[0;32mIn[5], line 70\u001b[0m\n\u001b[1;32m     67\u001b[0m logging\u001b[38;5;241m.\u001b[39minfo(\u001b[38;5;124mf\u001b[39m\u001b[38;5;124m\"\u001b[39m\u001b[38;5;124mUsing zip file at: \u001b[39m\u001b[38;5;132;01m{\u001b[39;00mos\u001b[38;5;241m.\u001b[39mpath\u001b[38;5;241m.\u001b[39mabspath(zip_file)\u001b[38;5;132;01m}\u001b[39;00m\u001b[38;5;124m\"\u001b[39m)\n\u001b[1;32m     69\u001b[0m \u001b[38;5;66;03m# Unzip the file\u001b[39;00m\n\u001b[0;32m---> 70\u001b[0m \u001b[43munzip_data\u001b[49m\u001b[43m(\u001b[49m\u001b[43mzip_file\u001b[49m\u001b[43m)\u001b[49m\n\u001b[1;32m     72\u001b[0m \u001b[38;5;66;03m# Example of how you might upload files after unzipping\u001b[39;00m\n\u001b[1;32m     73\u001b[0m \u001b[38;5;66;03m# for root, dirs, files in os.walk('dogImages'):\u001b[39;00m\n\u001b[1;32m     74\u001b[0m \u001b[38;5;66;03m#     for file in files:\u001b[39;00m\n\u001b[1;32m     75\u001b[0m \u001b[38;5;66;03m#         upload_file_to_s3(os.path.join(root, file), 'dog-images')\u001b[39;00m\n",
      "Cell \u001b[0;32mIn[5], line 22\u001b[0m, in \u001b[0;36munzip_data\u001b[0;34m(input_data_path)\u001b[0m\n\u001b[1;32m     20\u001b[0m \u001b[38;5;66;03m# Verify it's a zip file\u001b[39;00m\n\u001b[1;32m     21\u001b[0m \u001b[38;5;28;01mif\u001b[39;00m \u001b[38;5;129;01mnot\u001b[39;00m zipfile\u001b[38;5;241m.\u001b[39mis_zipfile(input_data_path):\n\u001b[0;32m---> 22\u001b[0m     \u001b[38;5;28;01mraise\u001b[39;00m \u001b[38;5;167;01mValueError\u001b[39;00m(\u001b[38;5;124mf\u001b[39m\u001b[38;5;124m\"\u001b[39m\u001b[38;5;124mThe file \u001b[39m\u001b[38;5;132;01m{\u001b[39;00minput_data_path\u001b[38;5;132;01m}\u001b[39;00m\u001b[38;5;124m is not a valid ZIP file\u001b[39m\u001b[38;5;124m\"\u001b[39m)\n\u001b[1;32m     24\u001b[0m \u001b[38;5;28;01mwith\u001b[39;00m zipfile\u001b[38;5;241m.\u001b[39mZipFile(input_data_path, \u001b[38;5;124m'\u001b[39m\u001b[38;5;124mr\u001b[39m\u001b[38;5;124m'\u001b[39m) \u001b[38;5;28;01mas\u001b[39;00m input_data_zip:\n\u001b[1;32m     25\u001b[0m     \u001b[38;5;66;03m# Print debug info about the zip file\u001b[39;00m\n\u001b[1;32m     26\u001b[0m     logging\u001b[38;5;241m.\u001b[39minfo(\u001b[38;5;124mf\u001b[39m\u001b[38;5;124m\"\u001b[39m\u001b[38;5;124mZip file contents: \u001b[39m\u001b[38;5;132;01m{\u001b[39;00minput_data_zip\u001b[38;5;241m.\u001b[39mnamelist()\u001b[38;5;132;01m}\u001b[39;00m\u001b[38;5;124m\"\u001b[39m)\n",
      "\u001b[0;31mValueError\u001b[0m: The file dogImages.zip is not a valid ZIP file"
     ]
    }
   ],
   "source": [
    "import boto3\n",
    "import json\n",
    "import os\n",
    "import zipfile\n",
    "import logging\n",
    "from botocore.exceptions import ClientError\n",
    "\n",
    "# Configure logging\n",
    "logging.basicConfig(level=logging.INFO)\n",
    "\n",
    "# You should define your bucket somewhere\n",
    "BUCKET = 'your-bucket-name'  # Make sure to define this\n",
    "\n",
    "def unzip_data(input_data_path):\n",
    "    try:\n",
    "        # Verify the file exists\n",
    "        if not os.path.exists(input_data_path):\n",
    "            raise FileNotFoundError(f\"The file {input_data_path} does not exist\")\n",
    "            \n",
    "        # Verify it's a zip file\n",
    "        if not zipfile.is_zipfile(input_data_path):\n",
    "            raise ValueError(f\"The file {input_data_path} is not a valid ZIP file\")\n",
    "            \n",
    "        with zipfile.ZipFile(input_data_path, 'r') as input_data_zip:\n",
    "            # Print debug info about the zip file\n",
    "            logging.info(f\"Zip file contents: {input_data_zip.namelist()}\")\n",
    "            input_data_zip.extractall('.')\n",
    "            logging.info(f\"Successfully extracted {input_data_path} to current directory\")\n",
    "            \n",
    "    except Exception as e:\n",
    "        logging.error(f\"Error unzipping {input_data_path}: {str(e)}\")\n",
    "        raise\n",
    "\n",
    "def upload_file_to_s3(file_name, s3_prefix):\n",
    "    object_name = os.path.join(s3_prefix, file_name)\n",
    "    s3_client = boto3.client('s3')\n",
    "    try:\n",
    "        response = s3_client.upload_file(file_name, BUCKET, object_name)\n",
    "        logging.info(f\"Successfully uploaded {file_name} to s3://{BUCKET}/{object_name}\")\n",
    "        return True\n",
    "    except ClientError as e:\n",
    "        logging.error(f\"Error uploading {file_name} to S3: {e}\")\n",
    "        return False\n",
    "    except Exception as e:\n",
    "        logging.error(f\"Unexpected error: {e}\")\n",
    "        return False\n",
    "\n",
    "if __name__ == \"__main__\":\n",
    "    zip_file = 'dogImages.zip'\n",
    "    \n",
    "    # Verify the file exists before trying to unzip\n",
    "    if not os.path.exists(zip_file):\n",
    "        # Try to find the file with different paths\n",
    "        possible_paths = [\n",
    "            os.path.join('data', zip_file),\n",
    "            os.path.join('../', zip_file),\n",
    "            os.path.join(os.path.dirname(__file__), zip_file)\n",
    "        ]\n",
    "        \n",
    "        for path in possible_paths:\n",
    "            if os.path.exists(path):\n",
    "                zip_file = path\n",
    "                break\n",
    "        else:\n",
    "            raise FileNotFoundError(f\"Could not find {zip_file} in any of these locations: {possible_paths}\")\n",
    "    \n",
    "    logging.info(f\"Using zip file at: {os.path.abspath(zip_file)}\")\n",
    "    \n",
    "    # Unzip the file\n",
    "    unzip_data(zip_file)\n",
    "    \n",
    "    # Example of how you might upload files after unzipping\n",
    "    # for root, dirs, files in os.walk('dogImages'):\n",
    "    #     for file in files:\n",
    "    #         upload_file_to_s3(os.path.join(root, file), 'dog-images')"
   ]
  },
  {
   "cell_type": "code",
   "execution_count": null,
   "id": "b176facb-6dad-4e80-ad20-7790355f5510",
   "metadata": {},
   "outputs": [],
   "source": []
  }
 ],
 "metadata": {
  "kernelspec": {
   "display_name": "Python 3 (ipykernel)",
   "language": "python",
   "name": "python3"
  },
  "language_info": {
   "codemirror_mode": {
    "name": "ipython",
    "version": 3
   },
   "file_extension": ".py",
   "mimetype": "text/x-python",
   "name": "python",
   "nbconvert_exporter": "python",
   "pygments_lexer": "ipython3",
   "version": "3.11.11"
  }
 },
 "nbformat": 4,
 "nbformat_minor": 5
}
