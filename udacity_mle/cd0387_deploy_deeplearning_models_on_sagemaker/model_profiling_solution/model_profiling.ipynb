{
 "cells": [
  {
   "cell_type": "markdown",
   "id": "ebae8949",
   "metadata": {},
   "source": [
    "# SageMaker Model Profiling\n",
    "\n",
    "Here we will see how we can use Sagemaker Profiling to see our training system metrics as well as generate a Profiler Report.\n",
    "\n",
    "First we will need to install `smdebug`."
   ]
  },
  {
   "cell_type": "markdown",
   "id": "951257ac",
   "metadata": {},
   "source": [
    "## `pytorch_cifar_profiling.py`\n",
    "<details>\n",
    "  <summary> Click here to see the full code for the script </summary>\n",
    "\n",
    "```python\n",
    "\n",
    "import argparse\n",
    "import time\n",
    "\n",
    "import numpy as np\n",
    "import torch\n",
    "import torch.nn as nn\n",
    "import torch.optim as optim\n",
    "import torchvision\n",
    "import torchvision.models as models\n",
    "import torchvision.transforms as transforms\n",
    "\n",
    "from smdebug import modes\n",
    "from smdebug.profiler.utils import str2bool\n",
    "from smdebug.pytorch import get_hook\n",
    "\n",
    "def train(args, net, device):\n",
    "    hook = get_hook(create_if_not_exists=True)\n",
    "    batch_size = args.batch_size\n",
    "    epoch = args.epoch\n",
    "    transform_train = transforms.Compose(\n",
    "        [\n",
    "            transforms.RandomCrop(32, padding=4),\n",
    "            transforms.RandomHorizontalFlip(),\n",
    "            transforms.ToTensor(),\n",
    "            transforms.Normalize((0.4914, 0.4822, 0.4465), (0.2023, 0.1994, 0.2010))\n",
    "        ]\n",
    "    )\n",
    "\n",
    "    transform_valid = transforms.Compose(\n",
    "        [\n",
    "            transforms.ToTensor(),\n",
    "            transforms.Normalize((0.4914, 0.4822, 0.4465), (0.2023, 0.1994, 0.2010))\n",
    "        ]\n",
    "    )\n",
    "\n",
    "    trainset = torchvision.datasets.CIFAR10(\n",
    "        root=\"./data\", train=True, download=True, transform=transform_train\n",
    "    )\n",
    "    trainloader = torch.utils.data.DataLoader(\n",
    "        trainset,\n",
    "        batch_size=batch_size,\n",
    "        shuffle=True\n",
    "    )\n",
    "\n",
    "    validset = torchvision.datasets.CIFAR10(\n",
    "        root=\"./data\", train=False, download=True, transform=transform_valid\n",
    "    )\n",
    "    validloader = torch.utils.data.DataLoader(\n",
    "        validset,\n",
    "        batch_size=batch_size,\n",
    "        shuffle=False\n",
    "    )\n",
    "\n",
    "    loss_optim = nn.CrossEntropyLoss()\n",
    "    optimizer = optim.SGD(net.parameters(), lr=1.0, momentum=0.9)\n",
    "\n",
    "    epoch_times = []\n",
    "\n",
    "    if hook:\n",
    "        hook.register_loss(loss_optim)\n",
    "    # train the model\n",
    "\n",
    "    for i in range(epoch):\n",
    "        print(\"START TRAINING\")\n",
    "        if hook:\n",
    "            hook.set_mode(modes.TRAIN)\n",
    "        start = time.time()\n",
    "        net.train()\n",
    "        train_loss = 0\n",
    "        for _, (inputs, targets) in enumerate(trainloader):\n",
    "            inputs, targets = inputs.to(device), targets.to(device)\n",
    "            optimizer.zero_grad()\n",
    "            outputs = net(inputs)\n",
    "            loss = loss_optim(outputs, targets)\n",
    "            loss.backward()\n",
    "            optimizer.step()\n",
    "            train_loss += loss.item()\n",
    "\n",
    "        print(\"START VALIDATING\")\n",
    "        if hook:\n",
    "            hook.set_mode(modes.EVAL)\n",
    "        net.eval()\n",
    "        val_loss = 0\n",
    "        with torch.no_grad():\n",
    "            for _, (inputs, targets) in enumerate(validloader):\n",
    "                inputs, targets = inputs.to(device), targets.to(device)\n",
    "                outputs = net(inputs)\n",
    "                loss = loss_optim(outputs, targets)\n",
    "                val_loss += loss.item()\n",
    "\n",
    "        epoch_time = time.time() - start\n",
    "        epoch_times.append(epoch_time)\n",
    "        print(\n",
    "            \"Epoch %d: train loss %.3f, val loss %.3f, in %.1f sec\"\n",
    "            % (i, train_loss, val_loss, epoch_time)\n",
    "        )\n",
    "\n",
    "    # calculate training time after all epoch\n",
    "    p50 = np.percentile(epoch_times, 50)\n",
    "    return p50\n",
    "\n",
    "\n",
    "def main():\n",
    "    parser = argparse.ArgumentParser()\n",
    "    parser.add_argument(\"--batch_size\", type=int, default=128)\n",
    "    parser.add_argument(\"--epoch\", type=int, default=1)\n",
    "    parser.add_argument(\"--gpu\", type=str2bool, default=True)\n",
    "    parser.add_argument(\"--model\", type=str, default=\"resnet50\")\n",
    "\n",
    "    opt = parser.parse_args()\n",
    "\n",
    "    for key, value in vars(opt).items():\n",
    "        print(f\"{key}:{value}\")\n",
    "    # create model\n",
    "    net = models.__dict__[opt.model](pretrained=True)\n",
    "    if opt.gpu == 1:\n",
    "        device = torch.device(\"cuda\")\n",
    "    else:\n",
    "        device = torch.device(\"cpu\")\n",
    "    net.to(device)\n",
    "\n",
    "    # Start the training.\n",
    "    median_time = train(opt, net, device)\n",
    "    print(\"Median training time per Epoch=%.1f sec\" % median_time)\n",
    "\n",
    "\n",
    "if __name__ == \"__main__\":\n",
    "    main()\n",
    "```\n",
    "\n",
    "</details>"
   ]
  },
  {
   "cell_type": "code",
   "execution_count": 2,
   "id": "78cfc288",
   "metadata": {},
   "outputs": [
    {
     "name": "stdout",
     "output_type": "stream",
     "text": [
      "Welcome to the Glue Interactive Sessions Kernel\n",
      "For more information on available magic commands, please type %help in any new cell.\n",
      "\n",
      "Please view our Getting Started page to access the most up-to-date information on the Interactive Sessions kernel: https://docs.aws.amazon.com/glue/latest/dg/interactive-sessions.html\n",
      "Installed kernel version: 1.0.8 \n",
      "Collecting smdebug\n",
      "  Using cached smdebug-1.0.34-py2.py3-none-any.whl.metadata (1.8 kB)\n",
      "Collecting protobuf<=3.20.3,>=3.20.0 (from smdebug)\n",
      "  Using cached protobuf-3.20.3-py2.py3-none-any.whl.metadata (720 bytes)\n",
      "Requirement already satisfied: numpy>=1.16.0 in /opt/conda/lib/python3.11/site-packages (from smdebug) (1.26.4)\n",
      "Requirement already satisfied: packaging in /opt/conda/lib/python3.11/site-packages (from smdebug) (24.2)\n",
      "Requirement already satisfied: boto3>=1.10.32 in /opt/conda/lib/python3.11/site-packages (from smdebug) (1.36.23)\n",
      "Collecting pyinstrument==3.4.2 (from smdebug)\n",
      "  Using cached pyinstrument-3.4.2-py2.py3-none-any.whl.metadata (22 kB)\n",
      "Collecting pyinstrument-cext>=0.2.2 (from pyinstrument==3.4.2->smdebug)\n",
      "  Using cached pyinstrument_cext-0.2.4-cp311-cp311-linux_x86_64.whl\n",
      "Requirement already satisfied: botocore<1.37.0,>=1.36.23 in /opt/conda/lib/python3.11/site-packages (from boto3>=1.10.32->smdebug) (1.36.23)\n",
      "Requirement already satisfied: jmespath<2.0.0,>=0.7.1 in /opt/conda/lib/python3.11/site-packages (from boto3>=1.10.32->smdebug) (1.0.1)\n",
      "Requirement already satisfied: s3transfer<0.12.0,>=0.11.0 in /opt/conda/lib/python3.11/site-packages (from boto3>=1.10.32->smdebug) (0.11.3)\n",
      "Requirement already satisfied: python-dateutil<3.0.0,>=2.1 in /opt/conda/lib/python3.11/site-packages (from botocore<1.37.0,>=1.36.23->boto3>=1.10.32->smdebug) (2.9.0.post0)\n",
      "Requirement already satisfied: urllib3!=2.2.0,<3,>=1.25.4 in /opt/conda/lib/python3.11/site-packages (from botocore<1.37.0,>=1.36.23->boto3>=1.10.32->smdebug) (2.3.0)\n",
      "Requirement already satisfied: six>=1.5 in /opt/conda/lib/python3.11/site-packages (from python-dateutil<3.0.0,>=2.1->botocore<1.37.0,>=1.36.23->boto3>=1.10.32->smdebug) (1.17.0)\n",
      "Using cached smdebug-1.0.34-py2.py3-none-any.whl (280 kB)\n",
      "Using cached pyinstrument-3.4.2-py2.py3-none-any.whl (83 kB)\n",
      "Using cached protobuf-3.20.3-py2.py3-none-any.whl (162 kB)\n",
      "Installing collected packages: pyinstrument-cext, pyinstrument, protobuf, smdebug\n",
      "  Attempting uninstall: protobuf\n",
      "    Found existing installation: protobuf 4.25.3\n",
      "    Uninstalling protobuf-4.25.3:\n",
      "      Successfully uninstalled protobuf-4.25.3\n",
      "Successfully installed protobuf-3.20.3 pyinstrument-3.4.2 pyinstrument-cext-0.2.4 smdebug-1.0.34\n"
     ]
    }
   ],
   "source": [
    "# install dependencies\n",
    "!pip install smdebug"
   ]
  },
  {
   "cell_type": "markdown",
   "id": "3084f745",
   "metadata": {},
   "source": [
    "Next we will need to specify the metrics that we want to track and create the profiler rules. Below you can see that I have specified to track 3 metrics: Loss not decreasing, Low GPU Utilization and also to generate the profiler report. I have also specified that these metrics should be tracked every 500 milliseconds."
   ]
  },
  {
   "cell_type": "code",
   "execution_count": 3,
   "id": "d63f8e12",
   "metadata": {
    "tags": []
   },
   "outputs": [
    {
     "name": "stdout",
     "output_type": "stream",
     "text": [
      "Trying to create a Glue session for the kernel.\n",
      "Session Type: etl\n",
      "Session ID: a274dc71-ecf7-4284-bf72-3da0b40f1740\n",
      "Applying the following default arguments:\n",
      "--glue_kernel_version 1.0.8\n",
      "--enable-glue-datacatalog true\n"
     ]
    },
    {
     "name": "stderr",
     "output_type": "stream",
     "text": [
      "Following exception encountered while creating session: An error occurred (InvalidInputException) when calling the CreateSession operation: Role arn:aws:iam::332367199158:role/service-role/AmazonSageMaker-ExecutionRole-20250404T165298 should be given assume role permissions for Glue Service.\n",
      " (Service: AWSGlueJobExecutor; Status Code: 400; Error Code: InvalidInputException; Request ID: f0a1ade0-20e5-489a-9192-b9d31ce9d730; Proxy: null) \n",
      "\n",
      "Error message: Role arn:aws:iam::332367199158:role/service-role/AmazonSageMaker-ExecutionRole-20250404T165298 should be given assume role permissions for Glue Service.\n",
      " (Service: AWSGlueJobExecutor; Status Code: 400; Error Code: InvalidInputException; Request ID: f0a1ade0-20e5-489a-9192-b9d31ce9d730; Proxy: null) \n",
      "\n",
      "Traceback (most recent call last):\n",
      "  File \"/opt/conda/lib/python3.11/site-packages/aws_glue_interactive_sessions_kernel/glue_kernel_utils/KernelGateway.py\", line 104, in create_session\n",
      "    response = self.glue_client.create_session(\n",
      "               ^^^^^^^^^^^^^^^^^^^^^^^^^^^^^^^^\n",
      "  File \"/opt/conda/lib/python3.11/site-packages/botocore/client.py\", line 569, in _api_call\n",
      "    return self._make_api_call(operation_name, kwargs)\n",
      "           ^^^^^^^^^^^^^^^^^^^^^^^^^^^^^^^^^^^^^^^^^^^\n",
      "  File \"/opt/conda/lib/python3.11/site-packages/botocore/client.py\", line 1023, in _make_api_call\n",
      "    raise error_class(parsed_response, operation_name)\n",
      "botocore.errorfactory.InvalidInputException: An error occurred (InvalidInputException) when calling the CreateSession operation: Role arn:aws:iam::332367199158:role/service-role/AmazonSageMaker-ExecutionRole-20250404T165298 should be given assume role permissions for Glue Service.\n",
      " (Service: AWSGlueJobExecutor; Status Code: 400; Error Code: InvalidInputException; Request ID: f0a1ade0-20e5-489a-9192-b9d31ce9d730; Proxy: null)\n",
      "Exception encountered while creating session: An error occurred (InvalidInputException) when calling the CreateSession operation: Role arn:aws:iam::332367199158:role/service-role/AmazonSageMaker-ExecutionRole-20250404T165298 should be given assume role permissions for Glue Service.\n",
      " (Service: AWSGlueJobExecutor; Status Code: 400; Error Code: InvalidInputException; Request ID: f0a1ade0-20e5-489a-9192-b9d31ce9d730; Proxy: null) \n",
      "Traceback (most recent call last):\n",
      "  File \"/opt/conda/lib/python3.11/site-packages/aws_glue_interactive_sessions_kernel/glue_kernel_base/BaseKernel.py\", line 173, in do_execute\n",
      "    self.create_session()\n",
      "  File \"/opt/conda/lib/python3.11/site-packages/aws_glue_interactive_sessions_kernel/glue_kernel_base/BaseKernel.py\", line 597, in create_session\n",
      "    response = self.kernel_gateway.create_session(\n",
      "               ^^^^^^^^^^^^^^^^^^^^^^^^^^^^^^^^^^^\n",
      "  File \"/opt/conda/lib/python3.11/site-packages/aws_glue_interactive_sessions_kernel/glue_kernel_utils/KernelGateway.py\", line 104, in create_session\n",
      "    response = self.glue_client.create_session(\n",
      "               ^^^^^^^^^^^^^^^^^^^^^^^^^^^^^^^^\n",
      "  File \"/opt/conda/lib/python3.11/site-packages/botocore/client.py\", line 569, in _api_call\n",
      "    return self._make_api_call(operation_name, kwargs)\n",
      "           ^^^^^^^^^^^^^^^^^^^^^^^^^^^^^^^^^^^^^^^^^^^\n",
      "  File \"/opt/conda/lib/python3.11/site-packages/botocore/client.py\", line 1023, in _make_api_call\n",
      "    raise error_class(parsed_response, operation_name)\n",
      "botocore.errorfactory.InvalidInputException: An error occurred (InvalidInputException) when calling the CreateSession operation: Role arn:aws:iam::332367199158:role/service-role/AmazonSageMaker-ExecutionRole-20250404T165298 should be given assume role permissions for Glue Service.\n",
      " (Service: AWSGlueJobExecutor; Status Code: 400; Error Code: InvalidInputException; Request ID: f0a1ade0-20e5-489a-9192-b9d31ce9d730; Proxy: null)\n"
     ]
    }
   ],
   "source": [
    "from sagemaker.debugger import Rule, ProfilerRule, rule_configs\n",
    "\n",
    "rules = [\n",
    "    Rule.sagemaker(rule_configs.loss_not_decreasing()),\n",
    "    ProfilerRule.sagemaker(rule_configs.LowGPUUtilization()),\n",
    "    ProfilerRule.sagemaker(rule_configs.ProfilerReport()),\n",
    "]"
   ]
  },
  {
   "cell_type": "code",
   "execution_count": 4,
   "id": "e554ccca",
   "metadata": {
    "tags": []
   },
   "outputs": [
    {
     "name": "stdout",
     "output_type": "stream",
     "text": [
      "Trying to create a Glue session for the kernel.\n",
      "Session Type: etl\n",
      "Session ID: a274dc71-ecf7-4284-bf72-3da0b40f1740\n",
      "Applying the following default arguments:\n",
      "--glue_kernel_version 1.0.8\n",
      "--enable-glue-datacatalog true\n"
     ]
    },
    {
     "name": "stderr",
     "output_type": "stream",
     "text": [
      "Following exception encountered while creating session: An error occurred (InvalidInputException) when calling the CreateSession operation: Role arn:aws:iam::332367199158:role/service-role/AmazonSageMaker-ExecutionRole-20250404T165298 should be given assume role permissions for Glue Service.\n",
      " (Service: AWSGlueJobExecutor; Status Code: 400; Error Code: InvalidInputException; Request ID: 4a6b2bd7-bfce-48c1-93da-7c82f43e061e; Proxy: null) \n",
      "\n",
      "Error message: Role arn:aws:iam::332367199158:role/service-role/AmazonSageMaker-ExecutionRole-20250404T165298 should be given assume role permissions for Glue Service.\n",
      " (Service: AWSGlueJobExecutor; Status Code: 400; Error Code: InvalidInputException; Request ID: 4a6b2bd7-bfce-48c1-93da-7c82f43e061e; Proxy: null) \n",
      "\n",
      "Traceback (most recent call last):\n",
      "  File \"/opt/conda/lib/python3.11/site-packages/aws_glue_interactive_sessions_kernel/glue_kernel_utils/KernelGateway.py\", line 104, in create_session\n",
      "    response = self.glue_client.create_session(\n",
      "               ^^^^^^^^^^^^^^^^^^^^^^^^^^^^^^^^\n",
      "  File \"/opt/conda/lib/python3.11/site-packages/botocore/client.py\", line 569, in _api_call\n",
      "    return self._make_api_call(operation_name, kwargs)\n",
      "           ^^^^^^^^^^^^^^^^^^^^^^^^^^^^^^^^^^^^^^^^^^^\n",
      "  File \"/opt/conda/lib/python3.11/site-packages/botocore/client.py\", line 1023, in _make_api_call\n",
      "    raise error_class(parsed_response, operation_name)\n",
      "botocore.errorfactory.InvalidInputException: An error occurred (InvalidInputException) when calling the CreateSession operation: Role arn:aws:iam::332367199158:role/service-role/AmazonSageMaker-ExecutionRole-20250404T165298 should be given assume role permissions for Glue Service.\n",
      " (Service: AWSGlueJobExecutor; Status Code: 400; Error Code: InvalidInputException; Request ID: 4a6b2bd7-bfce-48c1-93da-7c82f43e061e; Proxy: null)\n",
      "Exception encountered while creating session: An error occurred (InvalidInputException) when calling the CreateSession operation: Role arn:aws:iam::332367199158:role/service-role/AmazonSageMaker-ExecutionRole-20250404T165298 should be given assume role permissions for Glue Service.\n",
      " (Service: AWSGlueJobExecutor; Status Code: 400; Error Code: InvalidInputException; Request ID: 4a6b2bd7-bfce-48c1-93da-7c82f43e061e; Proxy: null) \n",
      "Traceback (most recent call last):\n",
      "  File \"/opt/conda/lib/python3.11/site-packages/aws_glue_interactive_sessions_kernel/glue_kernel_base/BaseKernel.py\", line 173, in do_execute\n",
      "    self.create_session()\n",
      "  File \"/opt/conda/lib/python3.11/site-packages/aws_glue_interactive_sessions_kernel/glue_kernel_base/BaseKernel.py\", line 597, in create_session\n",
      "    response = self.kernel_gateway.create_session(\n",
      "               ^^^^^^^^^^^^^^^^^^^^^^^^^^^^^^^^^^^\n",
      "  File \"/opt/conda/lib/python3.11/site-packages/aws_glue_interactive_sessions_kernel/glue_kernel_utils/KernelGateway.py\", line 104, in create_session\n",
      "    response = self.glue_client.create_session(\n",
      "               ^^^^^^^^^^^^^^^^^^^^^^^^^^^^^^^^\n",
      "  File \"/opt/conda/lib/python3.11/site-packages/botocore/client.py\", line 569, in _api_call\n",
      "    return self._make_api_call(operation_name, kwargs)\n",
      "           ^^^^^^^^^^^^^^^^^^^^^^^^^^^^^^^^^^^^^^^^^^^\n",
      "  File \"/opt/conda/lib/python3.11/site-packages/botocore/client.py\", line 1023, in _make_api_call\n",
      "    raise error_class(parsed_response, operation_name)\n",
      "botocore.errorfactory.InvalidInputException: An error occurred (InvalidInputException) when calling the CreateSession operation: Role arn:aws:iam::332367199158:role/service-role/AmazonSageMaker-ExecutionRole-20250404T165298 should be given assume role permissions for Glue Service.\n",
      " (Service: AWSGlueJobExecutor; Status Code: 400; Error Code: InvalidInputException; Request ID: 4a6b2bd7-bfce-48c1-93da-7c82f43e061e; Proxy: null)\n"
     ]
    }
   ],
   "source": [
    "from sagemaker.debugger import ProfilerConfig, FrameworkProfile\n",
    "\n",
    "profiler_config = ProfilerConfig(\n",
    "    system_monitor_interval_millis=500, framework_profile_params=FrameworkProfile(num_steps=10)\n",
    ")"
   ]
  },
  {
   "cell_type": "markdown",
   "id": "7ecd3129",
   "metadata": {},
   "source": [
    "Now that we have specified our profiler rules, we can create our hyperparameter dict and estimator to perform training. We will also need to specify our profiler rules and configs in the estimator."
   ]
  },
  {
   "cell_type": "code",
   "execution_count": 5,
   "id": "b5148c3f",
   "metadata": {
    "tags": []
   },
   "outputs": [
    {
     "name": "stdout",
     "output_type": "stream",
     "text": [
      "Trying to create a Glue session for the kernel.\n",
      "Session Type: etl\n",
      "Session ID: 66704c60-022b-414f-894f-070c25ce575c\n",
      "Applying the following default arguments:\n",
      "--glue_kernel_version 1.0.8\n",
      "--enable-glue-datacatalog true\n"
     ]
    },
    {
     "name": "stderr",
     "output_type": "stream",
     "text": [
      "Following exception encountered while creating session: An error occurred (AccessDeniedException) when calling the CreateSession operation: User: arn:aws:sts::332367199158:assumed-role/AmazonSageMaker-ExecutionRole-20250404T165298/SageMaker is not authorized to perform: glue:CreateSession on resource: arn:aws:glue:us-east-1:332367199158:session/66704c60-022b-414f-894f-070c25ce575c because no identity-based policy allows the glue:CreateSession action \n",
      "\n",
      "Error message: User: arn:aws:sts::332367199158:assumed-role/AmazonSageMaker-ExecutionRole-20250404T165298/SageMaker is not authorized to perform: glue:CreateSession on resource: arn:aws:glue:us-east-1:332367199158:session/66704c60-022b-414f-894f-070c25ce575c because no identity-based policy allows the glue:CreateSession action \n",
      "\n",
      "Traceback (most recent call last):\n",
      "  File \"/opt/conda/lib/python3.11/site-packages/aws_glue_interactive_sessions_kernel/glue_kernel_utils/KernelGateway.py\", line 104, in create_session\n",
      "    response = self.glue_client.create_session(\n",
      "               ^^^^^^^^^^^^^^^^^^^^^^^^^^^^^^^^\n",
      "  File \"/opt/conda/lib/python3.11/site-packages/botocore/client.py\", line 569, in _api_call\n",
      "    return self._make_api_call(operation_name, kwargs)\n",
      "           ^^^^^^^^^^^^^^^^^^^^^^^^^^^^^^^^^^^^^^^^^^^\n",
      "  File \"/opt/conda/lib/python3.11/site-packages/botocore/client.py\", line 1023, in _make_api_call\n",
      "    raise error_class(parsed_response, operation_name)\n",
      "botocore.errorfactory.AccessDeniedException: An error occurred (AccessDeniedException) when calling the CreateSession operation: User: arn:aws:sts::332367199158:assumed-role/AmazonSageMaker-ExecutionRole-20250404T165298/SageMaker is not authorized to perform: glue:CreateSession on resource: arn:aws:glue:us-east-1:332367199158:session/66704c60-022b-414f-894f-070c25ce575c because no identity-based policy allows the glue:CreateSession action\n",
      "Exception encountered while creating session: An error occurred (AccessDeniedException) when calling the CreateSession operation: User: arn:aws:sts::332367199158:assumed-role/AmazonSageMaker-ExecutionRole-20250404T165298/SageMaker is not authorized to perform: glue:CreateSession on resource: arn:aws:glue:us-east-1:332367199158:session/66704c60-022b-414f-894f-070c25ce575c because no identity-based policy allows the glue:CreateSession action \n",
      "Traceback (most recent call last):\n",
      "  File \"/opt/conda/lib/python3.11/site-packages/aws_glue_interactive_sessions_kernel/glue_kernel_base/BaseKernel.py\", line 173, in do_execute\n",
      "    self.create_session()\n",
      "  File \"/opt/conda/lib/python3.11/site-packages/aws_glue_interactive_sessions_kernel/glue_kernel_base/BaseKernel.py\", line 597, in create_session\n",
      "    response = self.kernel_gateway.create_session(\n",
      "               ^^^^^^^^^^^^^^^^^^^^^^^^^^^^^^^^^^^\n",
      "  File \"/opt/conda/lib/python3.11/site-packages/aws_glue_interactive_sessions_kernel/glue_kernel_utils/KernelGateway.py\", line 104, in create_session\n",
      "    response = self.glue_client.create_session(\n",
      "               ^^^^^^^^^^^^^^^^^^^^^^^^^^^^^^^^\n",
      "  File \"/opt/conda/lib/python3.11/site-packages/botocore/client.py\", line 569, in _api_call\n",
      "    return self._make_api_call(operation_name, kwargs)\n",
      "           ^^^^^^^^^^^^^^^^^^^^^^^^^^^^^^^^^^^^^^^^^^^\n",
      "  File \"/opt/conda/lib/python3.11/site-packages/botocore/client.py\", line 1023, in _make_api_call\n",
      "    raise error_class(parsed_response, operation_name)\n",
      "botocore.errorfactory.AccessDeniedException: An error occurred (AccessDeniedException) when calling the CreateSession operation: User: arn:aws:sts::332367199158:assumed-role/AmazonSageMaker-ExecutionRole-20250404T165298/SageMaker is not authorized to perform: glue:CreateSession on resource: arn:aws:glue:us-east-1:332367199158:session/66704c60-022b-414f-894f-070c25ce575c because no identity-based policy allows the glue:CreateSession action\n"
     ]
    }
   ],
   "source": [
    "hyperparameters = {\n",
    "    \"batch_size\": 2048,\n",
    "    \"gpu\": True,\n",
    "    \"epoch\": 2,\n",
    "    \"model\": \"resnet50\",\n",
    "}"
   ]
  },
  {
   "cell_type": "code",
   "execution_count": 6,
   "id": "31971c52",
   "metadata": {
    "tags": []
   },
   "outputs": [
    {
     "name": "stdout",
     "output_type": "stream",
     "text": [
      "Trying to create a Glue session for the kernel.\n",
      "Session Type: etl\n",
      "Session ID: 66704c60-022b-414f-894f-070c25ce575c\n",
      "Applying the following default arguments:\n",
      "--glue_kernel_version 1.0.8\n",
      "--enable-glue-datacatalog true\n"
     ]
    },
    {
     "name": "stderr",
     "output_type": "stream",
     "text": [
      "Following exception encountered while creating session: An error occurred (AccessDeniedException) when calling the CreateSession operation: User: arn:aws:sts::332367199158:assumed-role/AmazonSageMaker-ExecutionRole-20250404T165298/SageMaker is not authorized to perform: glue:CreateSession on resource: arn:aws:glue:us-east-1:332367199158:session/66704c60-022b-414f-894f-070c25ce575c because no identity-based policy allows the glue:CreateSession action \n",
      "\n",
      "Error message: User: arn:aws:sts::332367199158:assumed-role/AmazonSageMaker-ExecutionRole-20250404T165298/SageMaker is not authorized to perform: glue:CreateSession on resource: arn:aws:glue:us-east-1:332367199158:session/66704c60-022b-414f-894f-070c25ce575c because no identity-based policy allows the glue:CreateSession action \n",
      "\n",
      "Traceback (most recent call last):\n",
      "  File \"/opt/conda/lib/python3.11/site-packages/aws_glue_interactive_sessions_kernel/glue_kernel_utils/KernelGateway.py\", line 104, in create_session\n",
      "    response = self.glue_client.create_session(\n",
      "               ^^^^^^^^^^^^^^^^^^^^^^^^^^^^^^^^\n",
      "  File \"/opt/conda/lib/python3.11/site-packages/botocore/client.py\", line 569, in _api_call\n",
      "    return self._make_api_call(operation_name, kwargs)\n",
      "           ^^^^^^^^^^^^^^^^^^^^^^^^^^^^^^^^^^^^^^^^^^^\n",
      "  File \"/opt/conda/lib/python3.11/site-packages/botocore/client.py\", line 1023, in _make_api_call\n",
      "    raise error_class(parsed_response, operation_name)\n",
      "botocore.errorfactory.AccessDeniedException: An error occurred (AccessDeniedException) when calling the CreateSession operation: User: arn:aws:sts::332367199158:assumed-role/AmazonSageMaker-ExecutionRole-20250404T165298/SageMaker is not authorized to perform: glue:CreateSession on resource: arn:aws:glue:us-east-1:332367199158:session/66704c60-022b-414f-894f-070c25ce575c because no identity-based policy allows the glue:CreateSession action\n",
      "Exception encountered while creating session: An error occurred (AccessDeniedException) when calling the CreateSession operation: User: arn:aws:sts::332367199158:assumed-role/AmazonSageMaker-ExecutionRole-20250404T165298/SageMaker is not authorized to perform: glue:CreateSession on resource: arn:aws:glue:us-east-1:332367199158:session/66704c60-022b-414f-894f-070c25ce575c because no identity-based policy allows the glue:CreateSession action \n",
      "Traceback (most recent call last):\n",
      "  File \"/opt/conda/lib/python3.11/site-packages/aws_glue_interactive_sessions_kernel/glue_kernel_base/BaseKernel.py\", line 173, in do_execute\n",
      "    self.create_session()\n",
      "  File \"/opt/conda/lib/python3.11/site-packages/aws_glue_interactive_sessions_kernel/glue_kernel_base/BaseKernel.py\", line 597, in create_session\n",
      "    response = self.kernel_gateway.create_session(\n",
      "               ^^^^^^^^^^^^^^^^^^^^^^^^^^^^^^^^^^^\n",
      "  File \"/opt/conda/lib/python3.11/site-packages/aws_glue_interactive_sessions_kernel/glue_kernel_utils/KernelGateway.py\", line 104, in create_session\n",
      "    response = self.glue_client.create_session(\n",
      "               ^^^^^^^^^^^^^^^^^^^^^^^^^^^^^^^^\n",
      "  File \"/opt/conda/lib/python3.11/site-packages/botocore/client.py\", line 569, in _api_call\n",
      "    return self._make_api_call(operation_name, kwargs)\n",
      "           ^^^^^^^^^^^^^^^^^^^^^^^^^^^^^^^^^^^^^^^^^^^\n",
      "  File \"/opt/conda/lib/python3.11/site-packages/botocore/client.py\", line 1023, in _make_api_call\n",
      "    raise error_class(parsed_response, operation_name)\n",
      "botocore.errorfactory.AccessDeniedException: An error occurred (AccessDeniedException) when calling the CreateSession operation: User: arn:aws:sts::332367199158:assumed-role/AmazonSageMaker-ExecutionRole-20250404T165298/SageMaker is not authorized to perform: glue:CreateSession on resource: arn:aws:glue:us-east-1:332367199158:session/66704c60-022b-414f-894f-070c25ce575c because no identity-based policy allows the glue:CreateSession action\n"
     ]
    }
   ],
   "source": [
    "import sagemaker\n",
    "from sagemaker.pytorch import PyTorch\n",
    "\n",
    "estimator = PyTorch(\n",
    "    role=sagemaker.get_execution_role(),\n",
    "    instance_count=1,\n",
    "    instance_type=\"ml.p3.2xlarge\",\n",
    "    entry_point=\"pytorch_cifar_profiling.py\",\n",
    "    framework_version=\"1.8\",\n",
    "    py_version=\"py36\",\n",
    "    hyperparameters=hyperparameters,\n",
    "    profiler_config=profiler_config,\n",
    "    rules=rules,\n",
    ")"
   ]
  },
  {
   "cell_type": "code",
   "execution_count": 7,
   "id": "8cfc54bf",
   "metadata": {
    "scrolled": true,
    "tags": []
   },
   "outputs": [
    {
     "name": "stdout",
     "output_type": "stream",
     "text": [
      "Trying to create a Glue session for the kernel.\n",
      "Session Type: etl\n",
      "Session ID: 66704c60-022b-414f-894f-070c25ce575c\n",
      "Applying the following default arguments:\n",
      "--glue_kernel_version 1.0.8\n",
      "--enable-glue-datacatalog true\n"
     ]
    },
    {
     "name": "stderr",
     "output_type": "stream",
     "text": [
      "Following exception encountered while creating session: An error occurred (AccessDeniedException) when calling the CreateSession operation: User: arn:aws:sts::332367199158:assumed-role/AmazonSageMaker-ExecutionRole-20250404T165298/SageMaker is not authorized to perform: glue:CreateSession on resource: arn:aws:glue:us-east-1:332367199158:session/66704c60-022b-414f-894f-070c25ce575c because no identity-based policy allows the glue:CreateSession action \n",
      "\n",
      "Error message: User: arn:aws:sts::332367199158:assumed-role/AmazonSageMaker-ExecutionRole-20250404T165298/SageMaker is not authorized to perform: glue:CreateSession on resource: arn:aws:glue:us-east-1:332367199158:session/66704c60-022b-414f-894f-070c25ce575c because no identity-based policy allows the glue:CreateSession action \n",
      "\n",
      "Traceback (most recent call last):\n",
      "  File \"/opt/conda/lib/python3.11/site-packages/aws_glue_interactive_sessions_kernel/glue_kernel_utils/KernelGateway.py\", line 104, in create_session\n",
      "    response = self.glue_client.create_session(\n",
      "               ^^^^^^^^^^^^^^^^^^^^^^^^^^^^^^^^\n",
      "  File \"/opt/conda/lib/python3.11/site-packages/botocore/client.py\", line 569, in _api_call\n",
      "    return self._make_api_call(operation_name, kwargs)\n",
      "           ^^^^^^^^^^^^^^^^^^^^^^^^^^^^^^^^^^^^^^^^^^^\n",
      "  File \"/opt/conda/lib/python3.11/site-packages/botocore/client.py\", line 1023, in _make_api_call\n",
      "    raise error_class(parsed_response, operation_name)\n",
      "botocore.errorfactory.AccessDeniedException: An error occurred (AccessDeniedException) when calling the CreateSession operation: User: arn:aws:sts::332367199158:assumed-role/AmazonSageMaker-ExecutionRole-20250404T165298/SageMaker is not authorized to perform: glue:CreateSession on resource: arn:aws:glue:us-east-1:332367199158:session/66704c60-022b-414f-894f-070c25ce575c because no identity-based policy allows the glue:CreateSession action\n",
      "Exception encountered while creating session: An error occurred (AccessDeniedException) when calling the CreateSession operation: User: arn:aws:sts::332367199158:assumed-role/AmazonSageMaker-ExecutionRole-20250404T165298/SageMaker is not authorized to perform: glue:CreateSession on resource: arn:aws:glue:us-east-1:332367199158:session/66704c60-022b-414f-894f-070c25ce575c because no identity-based policy allows the glue:CreateSession action \n",
      "Traceback (most recent call last):\n",
      "  File \"/opt/conda/lib/python3.11/site-packages/aws_glue_interactive_sessions_kernel/glue_kernel_base/BaseKernel.py\", line 173, in do_execute\n",
      "    self.create_session()\n",
      "  File \"/opt/conda/lib/python3.11/site-packages/aws_glue_interactive_sessions_kernel/glue_kernel_base/BaseKernel.py\", line 597, in create_session\n",
      "    response = self.kernel_gateway.create_session(\n",
      "               ^^^^^^^^^^^^^^^^^^^^^^^^^^^^^^^^^^^\n",
      "  File \"/opt/conda/lib/python3.11/site-packages/aws_glue_interactive_sessions_kernel/glue_kernel_utils/KernelGateway.py\", line 104, in create_session\n",
      "    response = self.glue_client.create_session(\n",
      "               ^^^^^^^^^^^^^^^^^^^^^^^^^^^^^^^^\n",
      "  File \"/opt/conda/lib/python3.11/site-packages/botocore/client.py\", line 569, in _api_call\n",
      "    return self._make_api_call(operation_name, kwargs)\n",
      "           ^^^^^^^^^^^^^^^^^^^^^^^^^^^^^^^^^^^^^^^^^^^\n",
      "  File \"/opt/conda/lib/python3.11/site-packages/botocore/client.py\", line 1023, in _make_api_call\n",
      "    raise error_class(parsed_response, operation_name)\n",
      "botocore.errorfactory.AccessDeniedException: An error occurred (AccessDeniedException) when calling the CreateSession operation: User: arn:aws:sts::332367199158:assumed-role/AmazonSageMaker-ExecutionRole-20250404T165298/SageMaker is not authorized to perform: glue:CreateSession on resource: arn:aws:glue:us-east-1:332367199158:session/66704c60-022b-414f-894f-070c25ce575c because no identity-based policy allows the glue:CreateSession action\n"
     ]
    }
   ],
   "source": [
    "estimator.fit(wait=True)"
   ]
  },
  {
   "cell_type": "code",
   "execution_count": 8,
   "id": "ba6aef85",
   "metadata": {
    "tags": []
   },
   "outputs": [
    {
     "name": "stdout",
     "output_type": "stream",
     "text": [
      "Trying to create a Glue session for the kernel.\n",
      "Session Type: etl\n",
      "Session ID: 66704c60-022b-414f-894f-070c25ce575c\n",
      "Applying the following default arguments:\n",
      "--glue_kernel_version 1.0.8\n",
      "--enable-glue-datacatalog true\n"
     ]
    },
    {
     "name": "stderr",
     "output_type": "stream",
     "text": [
      "Following exception encountered while creating session: An error occurred (AccessDeniedException) when calling the CreateSession operation: User: arn:aws:sts::332367199158:assumed-role/AmazonSageMaker-ExecutionRole-20250404T165298/SageMaker is not authorized to perform: glue:CreateSession on resource: arn:aws:glue:us-east-1:332367199158:session/66704c60-022b-414f-894f-070c25ce575c because no identity-based policy allows the glue:CreateSession action \n",
      "\n",
      "Error message: User: arn:aws:sts::332367199158:assumed-role/AmazonSageMaker-ExecutionRole-20250404T165298/SageMaker is not authorized to perform: glue:CreateSession on resource: arn:aws:glue:us-east-1:332367199158:session/66704c60-022b-414f-894f-070c25ce575c because no identity-based policy allows the glue:CreateSession action \n",
      "\n",
      "Traceback (most recent call last):\n",
      "  File \"/opt/conda/lib/python3.11/site-packages/aws_glue_interactive_sessions_kernel/glue_kernel_utils/KernelGateway.py\", line 104, in create_session\n",
      "    response = self.glue_client.create_session(\n",
      "               ^^^^^^^^^^^^^^^^^^^^^^^^^^^^^^^^\n",
      "  File \"/opt/conda/lib/python3.11/site-packages/botocore/client.py\", line 569, in _api_call\n",
      "    return self._make_api_call(operation_name, kwargs)\n",
      "           ^^^^^^^^^^^^^^^^^^^^^^^^^^^^^^^^^^^^^^^^^^^\n",
      "  File \"/opt/conda/lib/python3.11/site-packages/botocore/client.py\", line 1023, in _make_api_call\n",
      "    raise error_class(parsed_response, operation_name)\n",
      "botocore.errorfactory.AccessDeniedException: An error occurred (AccessDeniedException) when calling the CreateSession operation: User: arn:aws:sts::332367199158:assumed-role/AmazonSageMaker-ExecutionRole-20250404T165298/SageMaker is not authorized to perform: glue:CreateSession on resource: arn:aws:glue:us-east-1:332367199158:session/66704c60-022b-414f-894f-070c25ce575c because no identity-based policy allows the glue:CreateSession action\n",
      "Exception encountered while creating session: An error occurred (AccessDeniedException) when calling the CreateSession operation: User: arn:aws:sts::332367199158:assumed-role/AmazonSageMaker-ExecutionRole-20250404T165298/SageMaker is not authorized to perform: glue:CreateSession on resource: arn:aws:glue:us-east-1:332367199158:session/66704c60-022b-414f-894f-070c25ce575c because no identity-based policy allows the glue:CreateSession action \n",
      "Traceback (most recent call last):\n",
      "  File \"/opt/conda/lib/python3.11/site-packages/aws_glue_interactive_sessions_kernel/glue_kernel_base/BaseKernel.py\", line 173, in do_execute\n",
      "    self.create_session()\n",
      "  File \"/opt/conda/lib/python3.11/site-packages/aws_glue_interactive_sessions_kernel/glue_kernel_base/BaseKernel.py\", line 597, in create_session\n",
      "    response = self.kernel_gateway.create_session(\n",
      "               ^^^^^^^^^^^^^^^^^^^^^^^^^^^^^^^^^^^\n",
      "  File \"/opt/conda/lib/python3.11/site-packages/aws_glue_interactive_sessions_kernel/glue_kernel_utils/KernelGateway.py\", line 104, in create_session\n",
      "    response = self.glue_client.create_session(\n",
      "               ^^^^^^^^^^^^^^^^^^^^^^^^^^^^^^^^\n",
      "  File \"/opt/conda/lib/python3.11/site-packages/botocore/client.py\", line 569, in _api_call\n",
      "    return self._make_api_call(operation_name, kwargs)\n",
      "           ^^^^^^^^^^^^^^^^^^^^^^^^^^^^^^^^^^^^^^^^^^^\n",
      "  File \"/opt/conda/lib/python3.11/site-packages/botocore/client.py\", line 1023, in _make_api_call\n",
      "    raise error_class(parsed_response, operation_name)\n",
      "botocore.errorfactory.AccessDeniedException: An error occurred (AccessDeniedException) when calling the CreateSession operation: User: arn:aws:sts::332367199158:assumed-role/AmazonSageMaker-ExecutionRole-20250404T165298/SageMaker is not authorized to perform: glue:CreateSession on resource: arn:aws:glue:us-east-1:332367199158:session/66704c60-022b-414f-894f-070c25ce575c because no identity-based policy allows the glue:CreateSession action\n"
     ]
    }
   ],
   "source": [
    "import boto3\n",
    "\n",
    "session = boto3.session.Session()\n",
    "region = session.region_name\n",
    "\n",
    "training_job_name = estimator.latest_training_job.name\n",
    "print(f\"Training jobname: {training_job_name}\")\n",
    "print(f\"Region: {region}\")"
   ]
  },
  {
   "cell_type": "markdown",
   "id": "687f2030",
   "metadata": {},
   "source": [
    "## Checking System Utilization\n",
    "Below is some boilerplate code to get the training job object using the training job name and display the system metrics. The plots may not show up in the classroom, but it will show up when you train the model in SageMaker Studio."
   ]
  },
  {
   "cell_type": "code",
   "execution_count": 9,
   "id": "4e9c8dc4",
   "metadata": {
    "tags": []
   },
   "outputs": [
    {
     "name": "stdout",
     "output_type": "stream",
     "text": [
      "Trying to create a Glue session for the kernel.\n",
      "Session Type: etl\n",
      "Session ID: 66704c60-022b-414f-894f-070c25ce575c\n",
      "Applying the following default arguments:\n",
      "--glue_kernel_version 1.0.8\n",
      "--enable-glue-datacatalog true\n"
     ]
    },
    {
     "name": "stderr",
     "output_type": "stream",
     "text": [
      "Following exception encountered while creating session: An error occurred (AccessDeniedException) when calling the CreateSession operation: User: arn:aws:sts::332367199158:assumed-role/AmazonSageMaker-ExecutionRole-20250404T165298/SageMaker is not authorized to perform: glue:CreateSession on resource: arn:aws:glue:us-east-1:332367199158:session/66704c60-022b-414f-894f-070c25ce575c because no identity-based policy allows the glue:CreateSession action \n",
      "\n",
      "Error message: User: arn:aws:sts::332367199158:assumed-role/AmazonSageMaker-ExecutionRole-20250404T165298/SageMaker is not authorized to perform: glue:CreateSession on resource: arn:aws:glue:us-east-1:332367199158:session/66704c60-022b-414f-894f-070c25ce575c because no identity-based policy allows the glue:CreateSession action \n",
      "\n",
      "Traceback (most recent call last):\n",
      "  File \"/opt/conda/lib/python3.11/site-packages/aws_glue_interactive_sessions_kernel/glue_kernel_utils/KernelGateway.py\", line 104, in create_session\n",
      "    response = self.glue_client.create_session(\n",
      "               ^^^^^^^^^^^^^^^^^^^^^^^^^^^^^^^^\n",
      "  File \"/opt/conda/lib/python3.11/site-packages/botocore/client.py\", line 569, in _api_call\n",
      "    return self._make_api_call(operation_name, kwargs)\n",
      "           ^^^^^^^^^^^^^^^^^^^^^^^^^^^^^^^^^^^^^^^^^^^\n",
      "  File \"/opt/conda/lib/python3.11/site-packages/botocore/client.py\", line 1023, in _make_api_call\n",
      "    raise error_class(parsed_response, operation_name)\n",
      "botocore.errorfactory.AccessDeniedException: An error occurred (AccessDeniedException) when calling the CreateSession operation: User: arn:aws:sts::332367199158:assumed-role/AmazonSageMaker-ExecutionRole-20250404T165298/SageMaker is not authorized to perform: glue:CreateSession on resource: arn:aws:glue:us-east-1:332367199158:session/66704c60-022b-414f-894f-070c25ce575c because no identity-based policy allows the glue:CreateSession action\n",
      "Exception encountered while creating session: An error occurred (AccessDeniedException) when calling the CreateSession operation: User: arn:aws:sts::332367199158:assumed-role/AmazonSageMaker-ExecutionRole-20250404T165298/SageMaker is not authorized to perform: glue:CreateSession on resource: arn:aws:glue:us-east-1:332367199158:session/66704c60-022b-414f-894f-070c25ce575c because no identity-based policy allows the glue:CreateSession action \n",
      "Traceback (most recent call last):\n",
      "  File \"/opt/conda/lib/python3.11/site-packages/aws_glue_interactive_sessions_kernel/glue_kernel_base/BaseKernel.py\", line 173, in do_execute\n",
      "    self.create_session()\n",
      "  File \"/opt/conda/lib/python3.11/site-packages/aws_glue_interactive_sessions_kernel/glue_kernel_base/BaseKernel.py\", line 597, in create_session\n",
      "    response = self.kernel_gateway.create_session(\n",
      "               ^^^^^^^^^^^^^^^^^^^^^^^^^^^^^^^^^^^\n",
      "  File \"/opt/conda/lib/python3.11/site-packages/aws_glue_interactive_sessions_kernel/glue_kernel_utils/KernelGateway.py\", line 104, in create_session\n",
      "    response = self.glue_client.create_session(\n",
      "               ^^^^^^^^^^^^^^^^^^^^^^^^^^^^^^^^\n",
      "  File \"/opt/conda/lib/python3.11/site-packages/botocore/client.py\", line 569, in _api_call\n",
      "    return self._make_api_call(operation_name, kwargs)\n",
      "           ^^^^^^^^^^^^^^^^^^^^^^^^^^^^^^^^^^^^^^^^^^^\n",
      "  File \"/opt/conda/lib/python3.11/site-packages/botocore/client.py\", line 1023, in _make_api_call\n",
      "    raise error_class(parsed_response, operation_name)\n",
      "botocore.errorfactory.AccessDeniedException: An error occurred (AccessDeniedException) when calling the CreateSession operation: User: arn:aws:sts::332367199158:assumed-role/AmazonSageMaker-ExecutionRole-20250404T165298/SageMaker is not authorized to perform: glue:CreateSession on resource: arn:aws:glue:us-east-1:332367199158:session/66704c60-022b-414f-894f-070c25ce575c because no identity-based policy allows the glue:CreateSession action\n"
     ]
    }
   ],
   "source": [
    "from smdebug.profiler.analysis.notebook_utils.training_job import TrainingJob\n",
    "\n",
    "tj = TrainingJob(training_job_name, region)\n",
    "tj.wait_for_sys_profiling_data_to_be_available()"
   ]
  },
  {
   "cell_type": "code",
   "execution_count": 10,
   "id": "0b1f6c6e",
   "metadata": {
    "tags": []
   },
   "outputs": [
    {
     "name": "stdout",
     "output_type": "stream",
     "text": [
      "Trying to create a Glue session for the kernel.\n",
      "Session Type: etl\n",
      "Session ID: 66704c60-022b-414f-894f-070c25ce575c\n",
      "Applying the following default arguments:\n",
      "--glue_kernel_version 1.0.8\n",
      "--enable-glue-datacatalog true\n"
     ]
    },
    {
     "name": "stderr",
     "output_type": "stream",
     "text": [
      "Following exception encountered while creating session: An error occurred (AccessDeniedException) when calling the CreateSession operation: User: arn:aws:sts::332367199158:assumed-role/AmazonSageMaker-ExecutionRole-20250404T165298/SageMaker is not authorized to perform: glue:CreateSession on resource: arn:aws:glue:us-east-1:332367199158:session/66704c60-022b-414f-894f-070c25ce575c because no identity-based policy allows the glue:CreateSession action \n",
      "\n",
      "Error message: User: arn:aws:sts::332367199158:assumed-role/AmazonSageMaker-ExecutionRole-20250404T165298/SageMaker is not authorized to perform: glue:CreateSession on resource: arn:aws:glue:us-east-1:332367199158:session/66704c60-022b-414f-894f-070c25ce575c because no identity-based policy allows the glue:CreateSession action \n",
      "\n",
      "Traceback (most recent call last):\n",
      "  File \"/opt/conda/lib/python3.11/site-packages/aws_glue_interactive_sessions_kernel/glue_kernel_utils/KernelGateway.py\", line 104, in create_session\n",
      "    response = self.glue_client.create_session(\n",
      "               ^^^^^^^^^^^^^^^^^^^^^^^^^^^^^^^^\n",
      "  File \"/opt/conda/lib/python3.11/site-packages/botocore/client.py\", line 569, in _api_call\n",
      "    return self._make_api_call(operation_name, kwargs)\n",
      "           ^^^^^^^^^^^^^^^^^^^^^^^^^^^^^^^^^^^^^^^^^^^\n",
      "  File \"/opt/conda/lib/python3.11/site-packages/botocore/client.py\", line 1023, in _make_api_call\n",
      "    raise error_class(parsed_response, operation_name)\n",
      "botocore.errorfactory.AccessDeniedException: An error occurred (AccessDeniedException) when calling the CreateSession operation: User: arn:aws:sts::332367199158:assumed-role/AmazonSageMaker-ExecutionRole-20250404T165298/SageMaker is not authorized to perform: glue:CreateSession on resource: arn:aws:glue:us-east-1:332367199158:session/66704c60-022b-414f-894f-070c25ce575c because no identity-based policy allows the glue:CreateSession action\n",
      "Exception encountered while creating session: An error occurred (AccessDeniedException) when calling the CreateSession operation: User: arn:aws:sts::332367199158:assumed-role/AmazonSageMaker-ExecutionRole-20250404T165298/SageMaker is not authorized to perform: glue:CreateSession on resource: arn:aws:glue:us-east-1:332367199158:session/66704c60-022b-414f-894f-070c25ce575c because no identity-based policy allows the glue:CreateSession action \n",
      "Traceback (most recent call last):\n",
      "  File \"/opt/conda/lib/python3.11/site-packages/aws_glue_interactive_sessions_kernel/glue_kernel_base/BaseKernel.py\", line 173, in do_execute\n",
      "    self.create_session()\n",
      "  File \"/opt/conda/lib/python3.11/site-packages/aws_glue_interactive_sessions_kernel/glue_kernel_base/BaseKernel.py\", line 597, in create_session\n",
      "    response = self.kernel_gateway.create_session(\n",
      "               ^^^^^^^^^^^^^^^^^^^^^^^^^^^^^^^^^^^\n",
      "  File \"/opt/conda/lib/python3.11/site-packages/aws_glue_interactive_sessions_kernel/glue_kernel_utils/KernelGateway.py\", line 104, in create_session\n",
      "    response = self.glue_client.create_session(\n",
      "               ^^^^^^^^^^^^^^^^^^^^^^^^^^^^^^^^\n",
      "  File \"/opt/conda/lib/python3.11/site-packages/botocore/client.py\", line 569, in _api_call\n",
      "    return self._make_api_call(operation_name, kwargs)\n",
      "           ^^^^^^^^^^^^^^^^^^^^^^^^^^^^^^^^^^^^^^^^^^^\n",
      "  File \"/opt/conda/lib/python3.11/site-packages/botocore/client.py\", line 1023, in _make_api_call\n",
      "    raise error_class(parsed_response, operation_name)\n",
      "botocore.errorfactory.AccessDeniedException: An error occurred (AccessDeniedException) when calling the CreateSession operation: User: arn:aws:sts::332367199158:assumed-role/AmazonSageMaker-ExecutionRole-20250404T165298/SageMaker is not authorized to perform: glue:CreateSession on resource: arn:aws:glue:us-east-1:332367199158:session/66704c60-022b-414f-894f-070c25ce575c because no identity-based policy allows the glue:CreateSession action\n"
     ]
    }
   ],
   "source": [
    "from smdebug.profiler.analysis.notebook_utils.timeline_charts import TimelineCharts\n",
    "\n",
    "system_metrics_reader = tj.get_systems_metrics_reader()\n",
    "system_metrics_reader.refresh_event_file_list()\n",
    "\n",
    "view_timeline_charts = TimelineCharts(\n",
    "    system_metrics_reader,\n",
    "    framework_metrics_reader=None,\n",
    "    select_dimensions=[\"CPU\", \"GPU\"],\n",
    "    select_events=[\"total\"],\n",
    ")"
   ]
  },
  {
   "cell_type": "markdown",
   "id": "56d89f4c",
   "metadata": {},
   "source": [
    "## Profiler Report\n",
    "Next we will fetch the profiler report from the S3 bucket where it was stored and display it. The profiler report may not display in the notebook, but you can take a look at it from the ProfilerReport folder.\n"
   ]
  },
  {
   "cell_type": "code",
   "execution_count": 11,
   "id": "5081abdf",
   "metadata": {
    "tags": []
   },
   "outputs": [
    {
     "name": "stdout",
     "output_type": "stream",
     "text": [
      "Trying to create a Glue session for the kernel.\n",
      "Session Type: etl\n",
      "Session ID: 66704c60-022b-414f-894f-070c25ce575c\n",
      "Applying the following default arguments:\n",
      "--glue_kernel_version 1.0.8\n",
      "--enable-glue-datacatalog true\n"
     ]
    },
    {
     "name": "stderr",
     "output_type": "stream",
     "text": [
      "Following exception encountered while creating session: An error occurred (AccessDeniedException) when calling the CreateSession operation: User: arn:aws:sts::332367199158:assumed-role/AmazonSageMaker-ExecutionRole-20250404T165298/SageMaker is not authorized to perform: glue:CreateSession on resource: arn:aws:glue:us-east-1:332367199158:session/66704c60-022b-414f-894f-070c25ce575c because no identity-based policy allows the glue:CreateSession action \n",
      "\n",
      "Error message: User: arn:aws:sts::332367199158:assumed-role/AmazonSageMaker-ExecutionRole-20250404T165298/SageMaker is not authorized to perform: glue:CreateSession on resource: arn:aws:glue:us-east-1:332367199158:session/66704c60-022b-414f-894f-070c25ce575c because no identity-based policy allows the glue:CreateSession action \n",
      "\n",
      "Traceback (most recent call last):\n",
      "  File \"/opt/conda/lib/python3.11/site-packages/aws_glue_interactive_sessions_kernel/glue_kernel_utils/KernelGateway.py\", line 104, in create_session\n",
      "    response = self.glue_client.create_session(\n",
      "               ^^^^^^^^^^^^^^^^^^^^^^^^^^^^^^^^\n",
      "  File \"/opt/conda/lib/python3.11/site-packages/botocore/client.py\", line 569, in _api_call\n",
      "    return self._make_api_call(operation_name, kwargs)\n",
      "           ^^^^^^^^^^^^^^^^^^^^^^^^^^^^^^^^^^^^^^^^^^^\n",
      "  File \"/opt/conda/lib/python3.11/site-packages/botocore/client.py\", line 1023, in _make_api_call\n",
      "    raise error_class(parsed_response, operation_name)\n",
      "botocore.errorfactory.AccessDeniedException: An error occurred (AccessDeniedException) when calling the CreateSession operation: User: arn:aws:sts::332367199158:assumed-role/AmazonSageMaker-ExecutionRole-20250404T165298/SageMaker is not authorized to perform: glue:CreateSession on resource: arn:aws:glue:us-east-1:332367199158:session/66704c60-022b-414f-894f-070c25ce575c because no identity-based policy allows the glue:CreateSession action\n",
      "Exception encountered while creating session: An error occurred (AccessDeniedException) when calling the CreateSession operation: User: arn:aws:sts::332367199158:assumed-role/AmazonSageMaker-ExecutionRole-20250404T165298/SageMaker is not authorized to perform: glue:CreateSession on resource: arn:aws:glue:us-east-1:332367199158:session/66704c60-022b-414f-894f-070c25ce575c because no identity-based policy allows the glue:CreateSession action \n",
      "Traceback (most recent call last):\n",
      "  File \"/opt/conda/lib/python3.11/site-packages/aws_glue_interactive_sessions_kernel/glue_kernel_base/BaseKernel.py\", line 173, in do_execute\n",
      "    self.create_session()\n",
      "  File \"/opt/conda/lib/python3.11/site-packages/aws_glue_interactive_sessions_kernel/glue_kernel_base/BaseKernel.py\", line 597, in create_session\n",
      "    response = self.kernel_gateway.create_session(\n",
      "               ^^^^^^^^^^^^^^^^^^^^^^^^^^^^^^^^^^^\n",
      "  File \"/opt/conda/lib/python3.11/site-packages/aws_glue_interactive_sessions_kernel/glue_kernel_utils/KernelGateway.py\", line 104, in create_session\n",
      "    response = self.glue_client.create_session(\n",
      "               ^^^^^^^^^^^^^^^^^^^^^^^^^^^^^^^^\n",
      "  File \"/opt/conda/lib/python3.11/site-packages/botocore/client.py\", line 569, in _api_call\n",
      "    return self._make_api_call(operation_name, kwargs)\n",
      "           ^^^^^^^^^^^^^^^^^^^^^^^^^^^^^^^^^^^^^^^^^^^\n",
      "  File \"/opt/conda/lib/python3.11/site-packages/botocore/client.py\", line 1023, in _make_api_call\n",
      "    raise error_class(parsed_response, operation_name)\n",
      "botocore.errorfactory.AccessDeniedException: An error occurred (AccessDeniedException) when calling the CreateSession operation: User: arn:aws:sts::332367199158:assumed-role/AmazonSageMaker-ExecutionRole-20250404T165298/SageMaker is not authorized to perform: glue:CreateSession on resource: arn:aws:glue:us-east-1:332367199158:session/66704c60-022b-414f-894f-070c25ce575c because no identity-based policy allows the glue:CreateSession action\n"
     ]
    }
   ],
   "source": [
    "rule_output_path = estimator.output_path + estimator.latest_training_job.job_name + \"/rule-output\"\n",
    "print(f\"You will find the profiler report in {rule_output_path}\")"
   ]
  },
  {
   "cell_type": "code",
   "execution_count": 13,
   "id": "8d1fae76",
   "metadata": {},
   "outputs": [
    {
     "name": "stdout",
     "output_type": "stream",
     "text": [
      "\n",
      "Parameter validation failed:\n",
      "Invalid bucket name \"{rule_output_path}\": Bucket name must match the regex \"^[a-zA-Z0-9.\\-_]{1,255}$\" or be an ARN matching the regex \"^arn:(aws).*:(s3|s3-object-lambda):[a-z\\-0-9]*:[0-9]{12}:accesspoint[/:][a-zA-Z0-9\\-.]{1,63}$|^arn:(aws).*:s3-outposts:[a-z\\-0-9]+:[0-9]{12}:outpost[/:][a-zA-Z0-9\\-]{1,63}[/:]accesspoint[/:][a-zA-Z0-9\\-]{1,63}$\"\n"
     ]
    }
   ],
   "source": [
    "! aws s3 ls {rule_output_path} --recursive"
   ]
  },
  {
   "cell_type": "code",
   "execution_count": 15,
   "id": "5ba97e6b",
   "metadata": {},
   "outputs": [
    {
     "name": "stdout",
     "output_type": "stream",
     "text": [
      "\n",
      "usage: aws s3 cp <LocalPath> <S3Uri> or <S3Uri> <LocalPath> or <S3Uri> <S3Uri>\n",
      "Error: Invalid argument type\n"
     ]
    }
   ],
   "source": [
    "! aws s3 cp {rule_output_path} ./ --recursive"
   ]
  },
  {
   "cell_type": "code",
   "execution_count": 16,
   "id": "d3bd47c1",
   "metadata": {},
   "outputs": [
    {
     "name": "stdout",
     "output_type": "stream",
     "text": [
      "Trying to create a Glue session for the kernel.\n",
      "Session Type: etl\n",
      "Session ID: 66704c60-022b-414f-894f-070c25ce575c\n",
      "Applying the following default arguments:\n",
      "--glue_kernel_version 1.0.8\n",
      "--enable-glue-datacatalog true\n"
     ]
    },
    {
     "name": "stderr",
     "output_type": "stream",
     "text": [
      "Following exception encountered while creating session: An error occurred (AccessDeniedException) when calling the CreateSession operation: User: arn:aws:sts::332367199158:assumed-role/AmazonSageMaker-ExecutionRole-20250404T165298/SageMaker is not authorized to perform: glue:CreateSession on resource: arn:aws:glue:us-east-1:332367199158:session/66704c60-022b-414f-894f-070c25ce575c because no identity-based policy allows the glue:CreateSession action \n",
      "\n",
      "Error message: User: arn:aws:sts::332367199158:assumed-role/AmazonSageMaker-ExecutionRole-20250404T165298/SageMaker is not authorized to perform: glue:CreateSession on resource: arn:aws:glue:us-east-1:332367199158:session/66704c60-022b-414f-894f-070c25ce575c because no identity-based policy allows the glue:CreateSession action \n",
      "\n",
      "Traceback (most recent call last):\n",
      "  File \"/opt/conda/lib/python3.11/site-packages/aws_glue_interactive_sessions_kernel/glue_kernel_utils/KernelGateway.py\", line 104, in create_session\n",
      "    response = self.glue_client.create_session(\n",
      "               ^^^^^^^^^^^^^^^^^^^^^^^^^^^^^^^^\n",
      "  File \"/opt/conda/lib/python3.11/site-packages/botocore/client.py\", line 569, in _api_call\n",
      "    return self._make_api_call(operation_name, kwargs)\n",
      "           ^^^^^^^^^^^^^^^^^^^^^^^^^^^^^^^^^^^^^^^^^^^\n",
      "  File \"/opt/conda/lib/python3.11/site-packages/botocore/client.py\", line 1023, in _make_api_call\n",
      "    raise error_class(parsed_response, operation_name)\n",
      "botocore.errorfactory.AccessDeniedException: An error occurred (AccessDeniedException) when calling the CreateSession operation: User: arn:aws:sts::332367199158:assumed-role/AmazonSageMaker-ExecutionRole-20250404T165298/SageMaker is not authorized to perform: glue:CreateSession on resource: arn:aws:glue:us-east-1:332367199158:session/66704c60-022b-414f-894f-070c25ce575c because no identity-based policy allows the glue:CreateSession action\n",
      "Exception encountered while creating session: An error occurred (AccessDeniedException) when calling the CreateSession operation: User: arn:aws:sts::332367199158:assumed-role/AmazonSageMaker-ExecutionRole-20250404T165298/SageMaker is not authorized to perform: glue:CreateSession on resource: arn:aws:glue:us-east-1:332367199158:session/66704c60-022b-414f-894f-070c25ce575c because no identity-based policy allows the glue:CreateSession action \n",
      "Traceback (most recent call last):\n",
      "  File \"/opt/conda/lib/python3.11/site-packages/aws_glue_interactive_sessions_kernel/glue_kernel_base/BaseKernel.py\", line 173, in do_execute\n",
      "    self.create_session()\n",
      "  File \"/opt/conda/lib/python3.11/site-packages/aws_glue_interactive_sessions_kernel/glue_kernel_base/BaseKernel.py\", line 597, in create_session\n",
      "    response = self.kernel_gateway.create_session(\n",
      "               ^^^^^^^^^^^^^^^^^^^^^^^^^^^^^^^^^^^\n",
      "  File \"/opt/conda/lib/python3.11/site-packages/aws_glue_interactive_sessions_kernel/glue_kernel_utils/KernelGateway.py\", line 104, in create_session\n",
      "    response = self.glue_client.create_session(\n",
      "               ^^^^^^^^^^^^^^^^^^^^^^^^^^^^^^^^\n",
      "  File \"/opt/conda/lib/python3.11/site-packages/botocore/client.py\", line 569, in _api_call\n",
      "    return self._make_api_call(operation_name, kwargs)\n",
      "           ^^^^^^^^^^^^^^^^^^^^^^^^^^^^^^^^^^^^^^^^^^^\n",
      "  File \"/opt/conda/lib/python3.11/site-packages/botocore/client.py\", line 1023, in _make_api_call\n",
      "    raise error_class(parsed_response, operation_name)\n",
      "botocore.errorfactory.AccessDeniedException: An error occurred (AccessDeniedException) when calling the CreateSession operation: User: arn:aws:sts::332367199158:assumed-role/AmazonSageMaker-ExecutionRole-20250404T165298/SageMaker is not authorized to perform: glue:CreateSession on resource: arn:aws:glue:us-east-1:332367199158:session/66704c60-022b-414f-894f-070c25ce575c because no identity-based policy allows the glue:CreateSession action\n"
     ]
    }
   ],
   "source": [
    "import os\n",
    "\n",
    "# get the autogenerated folder name of profiler report\n",
    "profiler_report_name = [\n",
    "    rule[\"RuleConfigurationName\"]\n",
    "    for rule in estimator.latest_training_job.rule_job_summary()\n",
    "    if \"Profiler\" in rule[\"RuleConfigurationName\"]\n",
    "][0]"
   ]
  },
  {
   "cell_type": "code",
   "execution_count": 17,
   "id": "31d4906b",
   "metadata": {},
   "outputs": [
    {
     "name": "stdout",
     "output_type": "stream",
     "text": [
      "Trying to create a Glue session for the kernel.\n",
      "Session Type: etl\n",
      "Session ID: 66704c60-022b-414f-894f-070c25ce575c\n",
      "Applying the following default arguments:\n",
      "--glue_kernel_version 1.0.8\n",
      "--enable-glue-datacatalog true\n"
     ]
    },
    {
     "name": "stderr",
     "output_type": "stream",
     "text": [
      "Following exception encountered while creating session: An error occurred (AccessDeniedException) when calling the CreateSession operation: User: arn:aws:sts::332367199158:assumed-role/AmazonSageMaker-ExecutionRole-20250404T165298/SageMaker is not authorized to perform: glue:CreateSession on resource: arn:aws:glue:us-east-1:332367199158:session/66704c60-022b-414f-894f-070c25ce575c because no identity-based policy allows the glue:CreateSession action \n",
      "\n",
      "Error message: User: arn:aws:sts::332367199158:assumed-role/AmazonSageMaker-ExecutionRole-20250404T165298/SageMaker is not authorized to perform: glue:CreateSession on resource: arn:aws:glue:us-east-1:332367199158:session/66704c60-022b-414f-894f-070c25ce575c because no identity-based policy allows the glue:CreateSession action \n",
      "\n",
      "Traceback (most recent call last):\n",
      "  File \"/opt/conda/lib/python3.11/site-packages/aws_glue_interactive_sessions_kernel/glue_kernel_utils/KernelGateway.py\", line 104, in create_session\n",
      "    response = self.glue_client.create_session(\n",
      "               ^^^^^^^^^^^^^^^^^^^^^^^^^^^^^^^^\n",
      "  File \"/opt/conda/lib/python3.11/site-packages/botocore/client.py\", line 569, in _api_call\n",
      "    return self._make_api_call(operation_name, kwargs)\n",
      "           ^^^^^^^^^^^^^^^^^^^^^^^^^^^^^^^^^^^^^^^^^^^\n",
      "  File \"/opt/conda/lib/python3.11/site-packages/botocore/client.py\", line 1023, in _make_api_call\n",
      "    raise error_class(parsed_response, operation_name)\n",
      "botocore.errorfactory.AccessDeniedException: An error occurred (AccessDeniedException) when calling the CreateSession operation: User: arn:aws:sts::332367199158:assumed-role/AmazonSageMaker-ExecutionRole-20250404T165298/SageMaker is not authorized to perform: glue:CreateSession on resource: arn:aws:glue:us-east-1:332367199158:session/66704c60-022b-414f-894f-070c25ce575c because no identity-based policy allows the glue:CreateSession action\n",
      "Exception encountered while creating session: An error occurred (AccessDeniedException) when calling the CreateSession operation: User: arn:aws:sts::332367199158:assumed-role/AmazonSageMaker-ExecutionRole-20250404T165298/SageMaker is not authorized to perform: glue:CreateSession on resource: arn:aws:glue:us-east-1:332367199158:session/66704c60-022b-414f-894f-070c25ce575c because no identity-based policy allows the glue:CreateSession action \n",
      "Traceback (most recent call last):\n",
      "  File \"/opt/conda/lib/python3.11/site-packages/aws_glue_interactive_sessions_kernel/glue_kernel_base/BaseKernel.py\", line 173, in do_execute\n",
      "    self.create_session()\n",
      "  File \"/opt/conda/lib/python3.11/site-packages/aws_glue_interactive_sessions_kernel/glue_kernel_base/BaseKernel.py\", line 597, in create_session\n",
      "    response = self.kernel_gateway.create_session(\n",
      "               ^^^^^^^^^^^^^^^^^^^^^^^^^^^^^^^^^^^\n",
      "  File \"/opt/conda/lib/python3.11/site-packages/aws_glue_interactive_sessions_kernel/glue_kernel_utils/KernelGateway.py\", line 104, in create_session\n",
      "    response = self.glue_client.create_session(\n",
      "               ^^^^^^^^^^^^^^^^^^^^^^^^^^^^^^^^\n",
      "  File \"/opt/conda/lib/python3.11/site-packages/botocore/client.py\", line 569, in _api_call\n",
      "    return self._make_api_call(operation_name, kwargs)\n",
      "           ^^^^^^^^^^^^^^^^^^^^^^^^^^^^^^^^^^^^^^^^^^^\n",
      "  File \"/opt/conda/lib/python3.11/site-packages/botocore/client.py\", line 1023, in _make_api_call\n",
      "    raise error_class(parsed_response, operation_name)\n",
      "botocore.errorfactory.AccessDeniedException: An error occurred (AccessDeniedException) when calling the CreateSession operation: User: arn:aws:sts::332367199158:assumed-role/AmazonSageMaker-ExecutionRole-20250404T165298/SageMaker is not authorized to perform: glue:CreateSession on resource: arn:aws:glue:us-east-1:332367199158:session/66704c60-022b-414f-894f-070c25ce575c because no identity-based policy allows the glue:CreateSession action\n"
     ]
    }
   ],
   "source": [
    "import IPython\n",
    "\n",
    "IPython.display.HTML(filename=profiler_report_name + \"/profiler-output/profiler-report.html\")"
   ]
  },
  {
   "cell_type": "code",
   "execution_count": null,
   "id": "6de8fcd6",
   "metadata": {},
   "outputs": [],
   "source": []
  },
  {
   "cell_type": "code",
   "execution_count": null,
   "id": "5cb352bf-6cd7-4c23-bba5-13c179d7a47e",
   "metadata": {},
   "outputs": [],
   "source": []
  }
 ],
 "metadata": {
  "instance_type": "ml.t3.medium",
  "kernelspec": {
   "display_name": "Glue PySpark",
   "language": "python",
   "name": "glue_pyspark"
  },
  "language_info": {
   "codemirror_mode": {
    "name": "python",
    "version": 3
   },
   "file_extension": ".py",
   "mimetype": "text/x-python",
   "name": "Python_Glue_Session",
   "pygments_lexer": "python3"
  }
 },
 "nbformat": 4,
 "nbformat_minor": 5
}
